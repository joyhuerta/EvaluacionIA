{
  "nbformat": 4,
  "nbformat_minor": 0,
  "metadata": {
    "colab": {
      "provenance": [],
      "authorship_tag": "ABX9TyM+DdNSDrXeizmmlDgf42oN",
      "include_colab_link": true
    },
    "kernelspec": {
      "name": "python3",
      "display_name": "Python 3"
    },
    "language_info": {
      "name": "python"
    }
  },
  "cells": [
    {
      "cell_type": "markdown",
      "metadata": {
        "id": "view-in-github",
        "colab_type": "text"
      },
      "source": [
        "<a href=\"https://colab.research.google.com/github/joyhuerta/EvaluacionIA/blob/main/P1_1_pynb.ipynb\" target=\"_parent\"><img src=\"https://colab.research.google.com/assets/colab-badge.svg\" alt=\"Open In Colab\"/></a>"
      ]
    },
    {
      "cell_type": "code",
      "execution_count": null,
      "metadata": {
        "id": "KcqKjRWkxa3U"
      },
      "outputs": [],
      "source": [
        "import tensorflow as tf\n",
        "import numpy as np\n",
        "\n",
        "kilogramos = np.array([1, 2, 5, 10, 15, 20], dtype=float)\n",
        "gramos = np.array([1000, 2000, 5000, 10000, 15000, 20000], dtype=float)\n",
        "\n",
        "oculta1 = tf.keras.layers.Dense(units=3, input_shape=[1])\n",
        "oculta2 = tf.keras.layers.Dense(units=3)\n",
        "salida = tf.keras.layers.Dense(units=1)\n",
        "modelo = tf.keras.Sequential([oculta1, oculta2, salida])\n",
        "\n",
        "modelo.compile(\n",
        "    optimizer=tf.keras.optimizers.Adam(0.01),\n",
        "    loss='mean_squared_error'\n",
        ")\n",
        "\n",
        "print(\"Entrenando . . .\")\n",
        "historial = modelo.fit(kilogramos, gramos, epochs=300, verbose=False)\n",
        "print(\"¡Modelo entrenado!\")\n",
        "\n",
        "import matplotlib.pyplot as plt\n",
        "plt.xlabel(\"# Epoca\")\n",
        "plt.ylabel(\"Magnitud de Pérdida\")\n",
        "plt.plot(historial.history[\"loss\"])\n",
        "plt.show()\n",
        "\n",
        "print(\"Realiza una predicción\")\n",
        "resultado = modelo.predict([5])\n",
        "print(\"El resultado es: \" + str(resultado) + \" gramos\")\n",
        "\n",
        "modelo.save('kg_a_gramos.h5')\n",
        "\n",
        "!ls\n",
        "\n",
        "!pip install tensorflowjs\n",
        "!mkdir peso\n",
        "!tensorflowjs_converter --input_format keras kg_a_gramos.h5 peso\n",
        "!ls peso"
      ]
    }
  ]
}